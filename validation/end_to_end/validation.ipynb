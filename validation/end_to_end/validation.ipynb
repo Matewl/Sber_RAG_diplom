{
 "cells": [
  {
   "cell_type": "code",
   "execution_count": null,
   "id": "67a71d6d",
   "metadata": {},
   "outputs": [],
   "source": [
    "from ragas import evaluate\n",
    "from ragas.metrics import (answer_correctness_ru, \n",
    "                           answer_correctness_devide_ru, \n",
    "                           faithfulness_ru,\n",
    "                           answer_relevancy_ru,\n",
    "                           noise_sensitivity_ru)\n",
    "import pandas as pd\n",
    "from datasets import Dataset\n",
    "from src.pipeline import Searcher\n"
   ]
  },
  {
   "cell_type": "code",
   "execution_count": null,
   "id": "638822d7",
   "metadata": {},
   "outputs": [],
   "source": [
    "searcher = Searcher()\n",
    "\n",
    "df = pd.read_csv(\"dataset_path.csv\")\n",
    "df['response'] = df['user_input'].apply(searcher.search)"
   ]
  },
  {
   "cell_type": "code",
   "execution_count": null,
   "id": "96448b21",
   "metadata": {},
   "outputs": [],
   "source": [
    "dataset = Dataset.from_pandas(df)\n",
    "\n",
    "metrics = evaluate(\n",
    "            dataset=dataset,\n",
    "            metrics=[\n",
    "                faithfulness_ru, \n",
    "                answer_correctness_ru,\n",
    "                answer_relevancy_ru,\n",
    "                answer_correctness_devide_ru,\n",
    "                noise_sensitivity_ru\n",
    "            ],\n",
    "                llm=searcher.llm, \n",
    "                embeddings=searcher.embedder,\n",
    "            ).to_pandas()\n",
    "\n",
    "metrics.to_csv('metrics')\n"
   ]
  }
 ],
 "metadata": {
  "language_info": {
   "name": "python"
  }
 },
 "nbformat": 4,
 "nbformat_minor": 5
}
