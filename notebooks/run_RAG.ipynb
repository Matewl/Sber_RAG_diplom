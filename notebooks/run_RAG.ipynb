{
 "cells": [
  {
   "cell_type": "code",
   "execution_count": null,
   "metadata": {},
   "outputs": [],
   "source": [
    "import pandas as pd\n",
    "from langchain_community.vectorstores import FAISS\n",
    "from tqdm import tqdm\n",
    "from joblib import Parallel, delayed\n",
    "import time\n",
    "import pickle\n",
    "from langchain_gigachat import GigaChat, GigaChatEmbeddings\n",
    "\n",
    "from src.retriever.retriever import Retriever\n",
    "from src.rag.vanila_rag import RAG\n",
    "from src.rag.adaptive_rag import AdaptiveRAG\n",
    "from src.embedder.embedder_wrappers import Embedder_wrapper_e5_giga\n",
    "from testing_rag import evaluate_RAG\n",
    "\n",
    "\n",
    "%load_ext autoreload\n",
    "%autoreload 2"
   ]
  },
  {
   "cell_type": "code",
   "execution_count": null,
   "metadata": {},
   "outputs": [],
   "source": [
    "llm = GigaChat(\n",
    "    )\n",
    "\n",
    "embedder = GigaChatEmbeddings(\n",
    ")\n",
    "wrapped_embedder = Embedder_wrapper_e5_giga(embedder)"
   ]
  },
  {
   "cell_type": "code",
   "execution_count": null,
   "metadata": {},
   "outputs": [],
   "source": []
  },
  {
   "cell_type": "code",
   "execution_count": null,
   "metadata": {},
   "outputs": [],
   "source": [
    "n_retries = 10\n",
    "def get_rag_answer(rag, query):\n",
    "    for _ in range(n_retries):\n",
    "        try:\n",
    "            return rag.get_answer(query)\n",
    "        except Exception as e:\n",
    "            time.sleep(5)\n",
    "            print('exception:', e)\n",
    "def get_rag_answers(rag, save_path, queries=queries, n_jobs=4, prefer='threads'):\n",
    "    result = Parallel(n_jobs=n_jobs, prefer=prefer)(delayed(get_rag_answer)(rag, query) for query in tqdm(queries))\n",
    "    with open(save_path, 'wb') as f:\n",
    "        pickle.dump(result, f)\n"
   ]
  },
  {
   "cell_type": "markdown",
   "metadata": {},
   "source": [
    "### Vanila RAG"
   ]
  },
  {
   "cell_type": "code",
   "execution_count": null,
   "metadata": {},
   "outputs": [],
   "source": [
    "retriever = Retriever(index_path, \n",
    "                      wrapped_embedder,\n",
    "                      strategy='ss',\n",
    "                      k=5)"
   ]
  },
  {
   "cell_type": "code",
   "execution_count": null,
   "metadata": {},
   "outputs": [],
   "source": [
    "rag = RAG(llm, retriever)"
   ]
  },
  {
   "cell_type": "code",
   "execution_count": null,
   "metadata": {},
   "outputs": [],
   "source": [
    "get_rag_answers(rag, 'vanilla.pkl')"
   ]
  },
  {
   "cell_type": "code",
   "execution_count": null,
   "metadata": {},
   "outputs": [],
   "source": []
  },
  {
   "cell_type": "markdown",
   "metadata": {},
   "source": [
    "### Adaptive RAG"
   ]
  },
  {
   "cell_type": "code",
   "execution_count": null,
   "metadata": {},
   "outputs": [],
   "source": [
    "rag = AdaptiveRAG(llm, retriever)"
   ]
  },
  {
   "cell_type": "code",
   "execution_count": null,
   "metadata": {},
   "outputs": [],
   "source": [
    "get_rag_answers(rag, 'adaptive.pkl')\n",
    "try:\n",
    "    evaluate_RAG('adaptive.pkl')\n",
    "except:\n",
    "    1"
   ]
  },
  {
   "cell_type": "markdown",
   "metadata": {},
   "source": [
    "## Query enrichment"
   ]
  },
  {
   "cell_type": "code",
   "execution_count": null,
   "metadata": {},
   "outputs": [],
   "source": [
    "from src.query_enrichment.query_enrichment import QueryEnrichment"
   ]
  },
  {
   "cell_type": "code",
   "execution_count": null,
   "metadata": {},
   "outputs": [],
   "source": []
  },
  {
   "cell_type": "code",
   "execution_count": null,
   "metadata": {},
   "outputs": [],
   "source": [
    "def run_eval(name):\n",
    "    enricher = QueryEnrichment(llm, [name])\n",
    "    rag = RAG(llm, retriever, enricher)\n",
    "    get_rag_answers(rag, f'{name}.pkl')\n",
    "\n",
    "    evaluate_RAG(f'{name}.pkl')\n"
   ]
  },
  {
   "cell_type": "markdown",
   "metadata": {},
   "source": [
    "### Hyde"
   ]
  },
  {
   "cell_type": "code",
   "execution_count": null,
   "metadata": {},
   "outputs": [],
   "source": [
    "run_eval('hyde')"
   ]
  },
  {
   "cell_type": "code",
   "execution_count": null,
   "metadata": {},
   "outputs": [],
   "source": [
    "run_eval('rephrase')"
   ]
  },
  {
   "cell_type": "code",
   "execution_count": null,
   "metadata": {},
   "outputs": [],
   "source": []
  },
  {
   "cell_type": "code",
   "execution_count": null,
   "metadata": {},
   "outputs": [],
   "source": [
    "run_eval('step_back')"
   ]
  },
  {
   "cell_type": "code",
   "execution_count": null,
   "metadata": {},
   "outputs": [],
   "source": [
    "evaluate_RAG('step_back.pkl')"
   ]
  },
  {
   "cell_type": "code",
   "execution_count": null,
   "metadata": {},
   "outputs": [],
   "source": [
    "run_eval('answer')"
   ]
  },
  {
   "cell_type": "code",
   "execution_count": null,
   "metadata": {},
   "outputs": [],
   "source": [
    "res = pd.read_csv('vanilla.csv')\n",
    "res = res.dropna()\n",
    "res.describe().iloc[1]"
   ]
  },
  {
   "cell_type": "code",
   "execution_count": null,
   "metadata": {},
   "outputs": [],
   "source": [
    "res = pd.read_csv('hyde.csv')\n",
    "res = res.dropna()\n",
    "res.describe().iloc[1]"
   ]
  },
  {
   "cell_type": "code",
   "execution_count": null,
   "metadata": {},
   "outputs": [],
   "source": [
    "res = pd.read_csv('rephrase.csv')\n",
    "res = res.dropna()\n",
    "res.describe().iloc[1]"
   ]
  },
  {
   "cell_type": "code",
   "execution_count": null,
   "metadata": {},
   "outputs": [],
   "source": [
    "res = pd.read_csv('answer.csv')\n",
    "res = res.dropna()\n",
    "res.describe().iloc[1]"
   ]
  },
  {
   "cell_type": "code",
   "execution_count": null,
   "metadata": {},
   "outputs": [],
   "source": [
    "res = pd.read_csv('step_back.csv')\n",
    "res = res.dropna()\n",
    "res.describe().iloc[1]"
   ]
  }
 ],
 "metadata": {
  "kernelspec": {
   "display_name": "Python 3",
   "language": "python",
   "name": "python3"
  },
  "language_info": {
   "codemirror_mode": {
    "name": "ipython",
    "version": 3
   },
   "file_extension": ".py",
   "mimetype": "text/x-python",
   "name": "python",
   "nbconvert_exporter": "python",
   "pygments_lexer": "ipython3",
   "version": "3.12.7"
  }
 },
 "nbformat": 4,
 "nbformat_minor": 2
}
