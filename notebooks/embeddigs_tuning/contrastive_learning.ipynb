{
 "cells": [
  {
   "cell_type": "code",
   "execution_count": null,
   "id": "53cc6240-989c-4ab4-a7d9-8ad289ce44df",
   "metadata": {
    "tags": []
   },
   "outputs": [],
   "source": [
    "from sentence_transformers import SentenceTransformer, InputExample, losses, SentenceTransformerTrainer, SentenceTransformerTrainingArguments\n",
    "from torch.utils.data import DataLoader\n",
    "import torch\n",
    "import pandas as pd\n",
    "from sentence_transformers import SentenceTransformer, InputExample, losses, evaluation\n",
    "from torch.utils.data import DataLoader\n",
    "from datasets import Dataset\n",
    "import random\n",
    "import pickle\n",
    "import numpy as np  \n",
    "import os\n",
    "os.environ['TOKENIZERS_PARALLELISM'] = 'false'"
   ]
  },
  {
   "cell_type": "code",
   "execution_count": null,
   "id": "b92d1a0c-0abe-4b46-9576-7a3f604feafc",
   "metadata": {
    "tags": []
   },
   "outputs": [],
   "source": [
    "model = SentenceTransformer('e5_large/', device='cuda:0')"
   ]
  },
  {
   "cell_type": "code",
   "execution_count": null,
   "id": "32b97aa2-5f98-45d1-9404-ac5d527484ad",
   "metadata": {
    "tags": []
   },
   "outputs": [],
   "source": [
    "# soft_negatives = pickle.load(open('data/soft_negatives.pkl', 'rb'))\n",
    "hard_negatives = pickle.load(open('data/hard_negatives_single.pkl', 'rb'))\n",
    "all_data = hard_negatives"
   ]
  },
  {
   "cell_type": "code",
   "execution_count": null,
   "id": "446fadf7",
   "metadata": {
    "tags": []
   },
   "outputs": [],
   "source": [
    "len(hard_negatives)"
   ]
  },
  {
   "cell_type": "code",
   "execution_count": null,
   "id": "df3931ff",
   "metadata": {
    "tags": []
   },
   "outputs": [],
   "source": [
    "\n",
    "random.shuffle(all_data)"
   ]
  },
  {
   "cell_type": "code",
   "execution_count": null,
   "id": "b82b990b",
   "metadata": {
    "tags": []
   },
   "outputs": [],
   "source": [
    "# np.random.seed(42)\n",
    "# val = np.random.choice(len(all_data), int(len(all_data) * 0.1), replace=False)\n",
    "# train_data = [all_data[i] for i in range(len(all_data)) if i not in val]\n",
    "# val_data = [all_data[i] for i in val]\n",
    "\n",
    "train_data = all_data"
   ]
  },
  {
   "cell_type": "code",
   "execution_count": null,
   "id": "184639a0-6da0-47e4-b28a-bd33112fe023",
   "metadata": {
    "tags": []
   },
   "outputs": [],
   "source": [
    "train_dataset = Dataset.from_dict({\n",
    "    'anchor': [data[0] for data in train_data],\n",
    "    'positive': [data[1] for data in train_data],\n",
    "    'negative': [data[2] for data in train_data],\n",
    "})\n",
    "\n",
    "# val_dataset = Dataset.from_dict({\n",
    "#     'anchor': [data[0] for data in val_data],\n",
    "#     'positive': [data[1] for data in val_data],\n",
    "#     'negative': [data[2] for data in val_data],\n",
    "# })"
   ]
  },
  {
   "cell_type": "code",
   "execution_count": null,
   "id": "6b7bbcbf",
   "metadata": {},
   "outputs": [],
   "source": [
    "train_dataset"
   ]
  },
  {
   "cell_type": "code",
   "execution_count": null,
   "id": "e57b4756-f19a-4c68-8401-ec2ef86206c1",
   "metadata": {
    "tags": []
   },
   "outputs": [],
   "source": [
    "train_loss = losses.TripletLoss(\n",
    "    model=model,\n",
    "    distance_metric=losses.SiameseDistanceMetric.COSINE_DISTANCE,\n",
    "    triplet_margin = 0.5\n",
    ")\n"
   ]
  },
  {
   "cell_type": "code",
   "execution_count": null,
   "id": "559445f8",
   "metadata": {
    "tags": []
   },
   "outputs": [],
   "source": [
    "# # val_evaluator = LossEvaluator.from_input_examples(\n",
    "# #     val_examples, \n",
    "# #     name='val_loss',\n",
    "# #     show_progress_bar=False\n",
    "# # )\n",
    "\n",
    "# args = SentenceTransformerTrainingArguments(\n",
    "#     output_dir='./training_output_08',\n",
    "#     num_train_epochs=6,\n",
    "#     per_device_train_batch_size=12,\n",
    "#     # evaluation_strategy='steps',\n",
    "#     # eval_steps=500,\n",
    "#     logging_steps=25,\n",
    "#     save_steps=1000,\n",
    "#     disable_tqdm=False,\n",
    "#     learning_rate=2e-5,\n",
    "#     fp16=torch.cuda.is_available(),\n",
    "#     dataloader_num_workers=8,\n",
    "#     # load_best_model_at_end=True,\n",
    "#     save_total_limit=5,\n",
    "# )\n",
    "\n",
    "# trainer = SentenceTransformerTrainer(\n",
    "#     model=model,\n",
    "#     args=args,\n",
    "#     train_dataset=train_dataset,\n",
    "#     # eval_dataloader=val_dataloader,\n",
    "#     loss=train_loss,\n",
    "#     # evaluator=val_evaluator,\n",
    "# )\n",
    "\n",
    "# trainer.train()\n"
   ]
  },
  {
   "cell_type": "code",
   "execution_count": null,
   "id": "44dd0ad8",
   "metadata": {
    "tags": []
   },
   "outputs": [],
   "source": [
    "# model.save('./e5_margine_08_epoch_6_single_hard_data')\n"
   ]
  },
  {
   "cell_type": "code",
   "execution_count": null,
   "id": "b5cf784b",
   "metadata": {
    "tags": []
   },
   "outputs": [],
   "source": [
    "model = SentenceTransformer('e5_large/', device='cuda:0')"
   ]
  },
  {
   "cell_type": "code",
   "execution_count": null,
   "id": "5f9e9b19",
   "metadata": {
    "tags": []
   },
   "outputs": [],
   "source": [
    "# np.random.seed(42)\n",
    "# val = np.random.choice(len(all_data), int(len(all_data) * 0.1), replace=False)\n",
    "# train_data = [all_data[i] for i in range(len(all_data)) if i not in val]\n",
    "# val_data = [all_data[i] for i in val]\n",
    "hard_negatives = pickle.load(open('data/hard_negatives.pkl', 'rb'))\n",
    "all_data = hard_negatives\n",
    "random.shuffle(all_data)\n",
    "train_data = all_data\n",
    "train_dataset = Dataset.from_dict({\n",
    "    'anchor': [data[0] for data in train_data],\n",
    "    'positive': [data[1] for data in train_data],\n",
    "    'negative': [data[2] for data in train_data],\n",
    "})\n",
    "\n",
    "# val_dataset = Dataset.from_dict({\n",
    "#     'anchor': [data[0] for data in val_data],\n",
    "#     'positive': [data[1] for data in val_data],\n",
    "#     'negative': [data[2] for data in val_data],\n",
    "# })\n",
    "train_loss = losses.TripletLoss(\n",
    "    model=model,\n",
    "    distance_metric=losses.SiameseDistanceMetric.COSINE_DISTANCE,\n",
    "    triplet_margin = 0.6\n",
    ")\n"
   ]
  },
  {
   "cell_type": "code",
   "execution_count": null,
   "id": "0cf442a6",
   "metadata": {},
   "outputs": [],
   "source": [
    "# val_evaluator = LossEvaluator.from_input_examples(\n",
    "#     val_examples, \n",
    "#     name='val_loss',\n",
    "#     show_progress_bar=False\n",
    "# )\n",
    "\n",
    "args = SentenceTransformerTrainingArguments(\n",
    "    output_dir='./training_output_e5_margine_05_epoch_3_all_hard_data',\n",
    "    num_train_epochs=5,\n",
    "    per_device_train_batch_size=12,\n",
    "    # evaluation_strategy='steps',\n",
    "    # eval_steps=500,\n",
    "    logging_steps=25,\n",
    "    save_steps=3000,\n",
    "    disable_tqdm=False,\n",
    "    learning_rate=2e-5,\n",
    "    fp16=torch.cuda.is_available(),\n",
    "    dataloader_num_workers=8,\n",
    "    # load_best_model_at_end=True,\n",
    "    save_total_limit=2,\n",
    ")\n",
    "\n",
    "trainer = SentenceTransformerTrainer(\n",
    "    model=model,\n",
    "    args=args,\n",
    "    train_dataset=train_dataset,\n",
    "    # eval_dataloader=val_dataloader,\n",
    "    loss=train_loss,\n",
    "    # evaluator=val_evaluator,\n",
    ")\n",
    "\n",
    "trainer.train()\n"
   ]
  },
  {
   "cell_type": "code",
   "execution_count": null,
   "id": "83fd0fec",
   "metadata": {
    "tags": []
   },
   "outputs": [],
   "source": [
    "model.save('./e5_margine_05_epoch_3_all_hard_data')\n"
   ]
  }
 ],
 "metadata": {
  "kernelspec": {
   "display_name": "Python 3.12",
   "language": "python",
   "name": "python3"
  },
  "language_info": {
   "codemirror_mode": {
    "name": "ipython",
    "version": 3
   },
   "file_extension": ".py",
   "mimetype": "text/x-python",
   "name": "python",
   "nbconvert_exporter": "python",
   "pygments_lexer": "ipython3",
   "version": "3.12.5"
  }
 },
 "nbformat": 4,
 "nbformat_minor": 5
}
