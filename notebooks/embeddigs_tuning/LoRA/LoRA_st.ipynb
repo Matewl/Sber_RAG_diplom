{
 "cells": [
  {
   "cell_type": "code",
   "execution_count": 1,
   "metadata": {},
   "outputs": [],
   "source": [
    "from sentence_transformers import SentenceTransformer, InputExample, losses, models\n",
    "from torch.utils.data import DataLoader\n",
    "from peft import LoraConfig, get_peft_model, TaskType\n",
    "import torch\n",
    "from datasets import load_dataset\n",
    "from tqdm import tqdm\n",
    "import pickle\n",
    "import random\n",
    "from datasets import Dataset\n",
    "import os\n",
    "from matplotlib import pyplot as plt\n",
    "from IPython.display import clear_output\n",
    "import torch\n",
    "import gc\n",
    "from uuid import uuid4\n",
    "import json\n",
    "import numpy as np\n",
    "from sentence_transformers import (\n",
    "    SentenceTransformer,\n",
    "    SentenceTransformerModelCardData,\n",
    "    SentenceTransformerTrainer,\n",
    "    SentenceTransformerTrainingArguments,\n",
    ")\n",
    "from sentence_transformers.evaluation import NanoBEIREvaluator\n",
    "from sentence_transformers.losses import CachedMultipleNegativesRankingLoss\n",
    "from sentence_transformers.training_args import BatchSamplers\n",
    "\n",
    "os.environ['TOKENIZERS_PARALLELISM'] = 'false'"
   ]
  },
  {
   "cell_type": "code",
   "execution_count": 2,
   "metadata": {},
   "outputs": [],
   "source": [
    "config = {}"
   ]
  },
  {
   "cell_type": "markdown",
   "metadata": {},
   "source": [
    "### Подготовка данных"
   ]
  },
  {
   "cell_type": "markdown",
   "metadata": {},
   "source": [
    "##### Конфигурация данных"
   ]
  },
  {
   "cell_type": "code",
   "execution_count": 3,
   "metadata": {},
   "outputs": [],
   "source": [
    "config['data'] = {'SYNT_TYPE': 'single',\n",
    "                'POSITIVE_THRESHOLD': 83,\n",
    "                'NEGATIVE_MINING_MARGINE': '001',\n",
    "                'NUM_NEGATIVES': 1,\n",
    "                'HARG_NEGATIVES_THRESHOLD': 75,\n",
    "                'USE_ALL_DATA': True\n",
    "                }"
   ]
  },
  {
   "cell_type": "markdown",
   "metadata": {},
   "source": [
    "##### Загрузка данных"
   ]
  },
  {
   "cell_type": "code",
   "execution_count": 4,
   "metadata": {},
   "outputs": [],
   "source": [
    "data_config = config['data']\n",
    "soft_negatives = pickle.load(open(f'data/soft_negatives_{data_config['SYNT_TYPE']}_{data_config['POSITIVE_THRESHOLD']}_{data_config['NEGATIVE_MINING_MARGINE']}_{data_config['NUM_NEGATIVES']}_{data_config['HARG_NEGATIVES_THRESHOLD']}.pkl', 'rb'))\n",
    "hard_negatives = pickle.load(open(f'data/hard_negatives_{data_config['SYNT_TYPE']}_{data_config['POSITIVE_THRESHOLD']}_{data_config['NEGATIVE_MINING_MARGINE']}_{data_config['NUM_NEGATIVES']}_{data_config['HARG_NEGATIVES_THRESHOLD']}.pkl', 'rb'))\n",
    "\n",
    "if data_config['USE_ALL_DATA']:\n",
    "    train_data = hard_negatives + soft_negatives\n",
    "else:\n",
    "    train_data = hard_negatives\n",
    "    \n",
    "random.shuffle(train_data)\n",
    "\n",
    "train_dataset = Dataset.from_dict({\n",
    "    'anchor': [data[0] for data in train_data],\n",
    "    'positive': [data[1] for data in train_data],\n",
    "    'negative': [data[2] for data in train_data],\n",
    "})\n"
   ]
  },
  {
   "cell_type": "markdown",
   "metadata": {},
   "source": [
    "##### Конфигурация LoRA"
   ]
  },
  {
   "cell_type": "code",
   "execution_count": 5,
   "metadata": {},
   "outputs": [],
   "source": [
    "DEVICE = torch.device(\"cuda\" if torch.cuda.is_available() else \"cpu\")\n",
    "\n",
    "config['LoRA'] = {\n",
    "                    \"MODEL_NAME\": \"e5_large\",\n",
    "                    \"LORA_R\": 16,\n",
    "                    \"LORA_ALPHA\": 32,\n",
    "                    \"LORA_DP\": 0.05\n",
    "                }\n",
    "\n",
    "LORA_CONFIG = LoraConfig(\n",
    "    task_type=TaskType.FEATURE_EXTRACTION,\n",
    "    inference_mode=False,\n",
    "    r=config['LoRA']['LORA_R'],\n",
    "    lora_alpha=config['LoRA']['LORA_ALPHA'],\n",
    "    lora_dropout=config['LoRA']['LORA_DP'],\n",
    "    bias=\"none\",\n",
    "    # modules_to_save=[\"pooling\"]\n",
    ")"
   ]
  },
  {
   "cell_type": "code",
   "execution_count": 6,
   "metadata": {},
   "outputs": [
    {
     "name": "stdout",
     "output_type": "stream",
     "text": [
      "Параметров до добавления LoRA: 559890432\n",
      "Параметров после добавления LoRA: 561463296\n",
      "Всего обучаемых параметров: 1572864\n"
     ]
    }
   ],
   "source": [
    "model = SentenceTransformer(config['LoRA']['MODEL_NAME'], device=DEVICE)\n",
    "before_num_params = sum(p.numel() for p in model.parameters())\n",
    "model.add_adapter(LORA_CONFIG)\n",
    "after_num_params = sum(p.numel() for p in model.parameters())\n",
    "print('Параметров до добавления LoRA:', before_num_params)\n",
    "print('Параметров после добавления LoRA:', after_num_params)\n",
    "print('Всего обучаемых параметров:', after_num_params - before_num_params)\n"
   ]
  },
  {
   "cell_type": "markdown",
   "metadata": {},
   "source": [
    "##### Параметры обучения"
   ]
  },
  {
   "cell_type": "code",
   "execution_count": 7,
   "metadata": {},
   "outputs": [],
   "source": [
    "config['training'] = {'LR': 2e-5,\n",
    "                    'WEIGHT_DECAY': 0.01,\n",
    "                    'MARGIN': 0.2,\n",
    "                    'EPOCHS': 5,\n",
    "                    # 'ALPHA': 0.1,\n",
    "                    'BATCH_SIZE': 128,\n",
    "                    'ACCUMULATION_STEPS': 2}"
   ]
  },
  {
   "cell_type": "code",
   "execution_count": 8,
   "metadata": {},
   "outputs": [],
   "source": [
    "def prepare_batch_for_triplet_loss(batch):\n",
    "    anchors, positives, negatives = batch['anchor'], batch['positive'], batch['negative']\n",
    "    features = []\n",
    "    for texts in [anchors, positives, negatives]:\n",
    "        tokenized = model.tokenize(texts)\n",
    "        tokenized = {key: value.to(model.device) for key, value in tokenized.items()}\n",
    "        features.append({'input_ids': tokenized['input_ids'], 'attention_mask': tokenized['attention_mask']})\n",
    "    return features"
   ]
  },
  {
   "cell_type": "code",
   "execution_count": 9,
   "metadata": {},
   "outputs": [],
   "source": [
    "triplet_loss = losses.TripletLoss(model=model, distance_metric=losses.TripletDistanceMetric.EUCLIDEAN, triplet_margin=config['training']['MARGIN'])\n",
    "cosine_loss = losses.CosineSimilarityLoss(model=model)\n",
    "\n",
    "train_dataloader = DataLoader(train_dataset, batch_size=config['training']['BATCH_SIZE'], shuffle=True)\n"
   ]
  },
  {
   "cell_type": "code",
   "execution_count": 10,
   "metadata": {},
   "outputs": [],
   "source": [
    "model_path = f\"LoRA_st_training/{str(uuid4())}\""
   ]
  },
  {
   "cell_type": "code",
   "execution_count": 11,
   "metadata": {},
   "outputs": [
    {
     "name": "stderr",
     "output_type": "stream",
     "text": [
      "Currently using DataParallel (DP) for multi-gpu training, while DistributedDataParallel (DDP) is recommended for faster training. See https://sbert.net/docs/sentence_transformer/training/distributed.html for more information.\n"
     ]
    }
   ],
   "source": [
    "args = SentenceTransformerTrainingArguments(\n",
    "    output_dir=model_path,\n",
    "    num_train_epochs=config['training']['EPOCHS'],\n",
    "    per_device_train_batch_size=config['training']['BATCH_SIZE'],\n",
    "    learning_rate=config['training']['LR'],\n",
    "    warmup_ratio=0.1,\n",
    "    save_steps=3000,\n",
    "    disable_tqdm=False,\n",
    "    fp16=torch.cuda.is_available(),\n",
    "    dataloader_num_workers=8,\n",
    "    save_total_limit=2,\n",
    "    gradient_accumulation_steps=config['training']['ACCUMULATION_STEPS'],\n",
    ")"
   ]
  },
  {
   "cell_type": "code",
   "execution_count": 12,
   "metadata": {},
   "outputs": [
    {
     "name": "stderr",
     "output_type": "stream",
     "text": [
      "Detected kernel version 3.10.0, which is below the recommended minimum of 5.5.0; this can cause the process to hang. It is recommended to upgrade the kernel to the minimum version or higher.\n"
     ]
    },
    {
     "name": "stdout",
     "output_type": "stream",
     "text": [
      "[2025-07-10 18:08:04,802] [INFO] [real_accelerator.py:219:get_accelerator] Setting ds_accelerator to cuda (auto detect)\n"
     ]
    },
    {
     "name": "stderr",
     "output_type": "stream",
     "text": [
      "df: /home/datalab/.triton/autotune: No such file or directory\n",
      "/usr/local/cuda/lib64/libcufile.so: undefined reference to `dlvsym'\n",
      "/usr/local/cuda/lib64/libcufile.so: undefined reference to `dlopen'\n",
      "/usr/local/cuda/lib64/libcufile.so: undefined reference to `dlclose'\n",
      "/usr/local/cuda/lib64/libcufile.so: undefined reference to `dlerror'\n",
      "/usr/local/cuda/lib64/libcufile.so: undefined reference to `dlsym'\n",
      "collect2: error: ld returned 1 exit status\n"
     ]
    }
   ],
   "source": [
    "trainer = SentenceTransformerTrainer(\n",
    "    model=model,\n",
    "    args=args,\n",
    "    train_dataset=train_dataset,\n",
    "    loss=triplet_loss,\n",
    ")\n"
   ]
  },
  {
   "cell_type": "code",
   "execution_count": null,
   "metadata": {},
   "outputs": [
    {
     "data": {
      "text/html": [
       "\n",
       "    <div>\n",
       "      \n",
       "      <progress value='13' max='865' style='width:300px; height:20px; vertical-align: middle;'></progress>\n",
       "      [ 13/865 00:26 < 34:39, 0.41 it/s, Epoch 0.07/5]\n",
       "    </div>\n",
       "    <table border=\"1\" class=\"dataframe\">\n",
       "  <thead>\n",
       " <tr style=\"text-align: left;\">\n",
       "      <th>Step</th>\n",
       "      <th>Training Loss</th>\n",
       "    </tr>\n",
       "  </thead>\n",
       "  <tbody>\n",
       "  </tbody>\n",
       "</table><p>"
      ],
      "text/plain": [
       "<IPython.core.display.HTML object>"
      ]
     },
     "metadata": {},
     "output_type": "display_data"
    },
    {
     "ename": "KeyboardInterrupt",
     "evalue": "",
     "output_type": "error",
     "traceback": [
      "\u001b[0;31m---------------------------------------------------------------------------\u001b[0m",
      "\u001b[0;31mKeyboardInterrupt\u001b[0m                         Traceback (most recent call last)",
      "\u001b[1;32m/home/datalab/nfs/embeddings_tuning/rm_pm_index/notebooks/LoRA_st.ipynb Cell 18\u001b[0m line \u001b[0;36m1\n\u001b[0;32m----> <a href='vscode-notebook-cell://jupyterhub-datalab.apps.prom-datalab.ca.sbrf.ru/home/datalab/nfs/embeddings_tuning/rm_pm_index/notebooks/LoRA_st.ipynb#X30sdnNjb2RlLXJlbW90ZQ%3D%3D?line=0'>1</a>\u001b[0m trainer\u001b[39m.\u001b[39;49mtrain()\n\u001b[1;32m      <a href='vscode-notebook-cell://jupyterhub-datalab.apps.prom-datalab.ca.sbrf.ru/home/datalab/nfs/embeddings_tuning/rm_pm_index/notebooks/LoRA_st.ipynb#X30sdnNjb2RlLXJlbW90ZQ%3D%3D?line=2'>3</a>\u001b[0m model\u001b[39m.\u001b[39msave_pretrained(model_path \u001b[39m+\u001b[39m \u001b[39m'\u001b[39m\u001b[39mfinal\u001b[39m\u001b[39m'\u001b[39m)\n\u001b[1;32m      <a href='vscode-notebook-cell://jupyterhub-datalab.apps.prom-datalab.ca.sbrf.ru/home/datalab/nfs/embeddings_tuning/rm_pm_index/notebooks/LoRA_st.ipynb#X30sdnNjb2RlLXJlbW90ZQ%3D%3D?line=4'>5</a>\u001b[0m \u001b[39mwith\u001b[39;00m \u001b[39mopen\u001b[39m(model_path \u001b[39m+\u001b[39m \u001b[39m'\u001b[39m\u001b[39m/config.json\u001b[39m\u001b[39m'\u001b[39m, \u001b[39m'\u001b[39m\u001b[39mw\u001b[39m\u001b[39m'\u001b[39m, encoding\u001b[39m=\u001b[39m\u001b[39m'\u001b[39m\u001b[39mutf-8\u001b[39m\u001b[39m'\u001b[39m) \u001b[39mas\u001b[39;00m f:\n",
      "File \u001b[0;32m/opt/app-root/lib64/python3.12/site-packages/transformers/trainer.py:2122\u001b[0m, in \u001b[0;36mTrainer.train\u001b[0;34m(self, resume_from_checkpoint, trial, ignore_keys_for_eval, **kwargs)\u001b[0m\n\u001b[1;32m   2120\u001b[0m         hf_hub_utils\u001b[39m.\u001b[39menable_progress_bars()\n\u001b[1;32m   2121\u001b[0m \u001b[39melse\u001b[39;00m:\n\u001b[0;32m-> 2122\u001b[0m     \u001b[39mreturn\u001b[39;00m inner_training_loop(\n\u001b[1;32m   2123\u001b[0m         args\u001b[39m=\u001b[39;49margs,\n\u001b[1;32m   2124\u001b[0m         resume_from_checkpoint\u001b[39m=\u001b[39;49mresume_from_checkpoint,\n\u001b[1;32m   2125\u001b[0m         trial\u001b[39m=\u001b[39;49mtrial,\n\u001b[1;32m   2126\u001b[0m         ignore_keys_for_eval\u001b[39m=\u001b[39;49mignore_keys_for_eval,\n\u001b[1;32m   2127\u001b[0m     )\n",
      "File \u001b[0;32m/opt/app-root/lib64/python3.12/site-packages/transformers/trainer.py:2474\u001b[0m, in \u001b[0;36mTrainer._inner_training_loop\u001b[0;34m(self, batch_size, args, resume_from_checkpoint, trial, ignore_keys_for_eval)\u001b[0m\n\u001b[1;32m   2471\u001b[0m     \u001b[39mself\u001b[39m\u001b[39m.\u001b[39mcontrol \u001b[39m=\u001b[39m \u001b[39mself\u001b[39m\u001b[39m.\u001b[39mcallback_handler\u001b[39m.\u001b[39mon_step_begin(args, \u001b[39mself\u001b[39m\u001b[39m.\u001b[39mstate, \u001b[39mself\u001b[39m\u001b[39m.\u001b[39mcontrol)\n\u001b[1;32m   2473\u001b[0m \u001b[39mwith\u001b[39;00m \u001b[39mself\u001b[39m\u001b[39m.\u001b[39maccelerator\u001b[39m.\u001b[39maccumulate(model):\n\u001b[0;32m-> 2474\u001b[0m     tr_loss_step \u001b[39m=\u001b[39m \u001b[39mself\u001b[39;49m\u001b[39m.\u001b[39;49mtraining_step(model, inputs, num_items_in_batch)\n\u001b[1;32m   2476\u001b[0m \u001b[39mif\u001b[39;00m (\n\u001b[1;32m   2477\u001b[0m     args\u001b[39m.\u001b[39mlogging_nan_inf_filter\n\u001b[1;32m   2478\u001b[0m     \u001b[39mand\u001b[39;00m \u001b[39mnot\u001b[39;00m is_torch_xla_available()\n\u001b[1;32m   2479\u001b[0m     \u001b[39mand\u001b[39;00m (torch\u001b[39m.\u001b[39misnan(tr_loss_step) \u001b[39mor\u001b[39;00m torch\u001b[39m.\u001b[39misinf(tr_loss_step))\n\u001b[1;32m   2480\u001b[0m ):\n\u001b[1;32m   2481\u001b[0m     \u001b[39m# if loss is nan or inf simply add the average of previous logged losses\u001b[39;00m\n\u001b[1;32m   2482\u001b[0m     tr_loss \u001b[39m=\u001b[39m tr_loss \u001b[39m+\u001b[39m tr_loss \u001b[39m/\u001b[39m (\u001b[39m1\u001b[39m \u001b[39m+\u001b[39m \u001b[39mself\u001b[39m\u001b[39m.\u001b[39mstate\u001b[39m.\u001b[39mglobal_step \u001b[39m-\u001b[39m \u001b[39mself\u001b[39m\u001b[39m.\u001b[39m_globalstep_last_logged)\n",
      "File \u001b[0;32m/opt/app-root/lib64/python3.12/site-packages/transformers/trainer.py:3606\u001b[0m, in \u001b[0;36mTrainer.training_step\u001b[0;34m(***failed resolving arguments***)\u001b[0m\n\u001b[1;32m   3604\u001b[0m \u001b[39melse\u001b[39;00m:\n\u001b[1;32m   3605\u001b[0m     loss \u001b[39m*\u001b[39m\u001b[39m=\u001b[39m \u001b[39mself\u001b[39m\u001b[39m.\u001b[39margs\u001b[39m.\u001b[39mgradient_accumulation_steps\n\u001b[0;32m-> 3606\u001b[0m     \u001b[39mself\u001b[39;49m\u001b[39m.\u001b[39;49maccelerator\u001b[39m.\u001b[39;49mbackward(loss, \u001b[39m*\u001b[39;49m\u001b[39m*\u001b[39;49mkwargs)\n\u001b[1;32m   3608\u001b[0m \u001b[39mreturn\u001b[39;00m loss\u001b[39m.\u001b[39mdetach() \u001b[39m/\u001b[39m \u001b[39mself\u001b[39m\u001b[39m.\u001b[39margs\u001b[39m.\u001b[39mgradient_accumulation_steps\n",
      "File \u001b[0;32m/opt/app-root/lib64/python3.12/site-packages/accelerate/accelerator.py:2242\u001b[0m, in \u001b[0;36mAccelerator.backward\u001b[0;34m(self, loss, **kwargs)\u001b[0m\n\u001b[1;32m   2240\u001b[0m     \u001b[39mreturn\u001b[39;00m\n\u001b[1;32m   2241\u001b[0m \u001b[39melif\u001b[39;00m \u001b[39mself\u001b[39m\u001b[39m.\u001b[39mscaler \u001b[39mis\u001b[39;00m \u001b[39mnot\u001b[39;00m \u001b[39mNone\u001b[39;00m:\n\u001b[0;32m-> 2242\u001b[0m     \u001b[39mself\u001b[39;49m\u001b[39m.\u001b[39;49mscaler\u001b[39m.\u001b[39;49mscale(loss)\u001b[39m.\u001b[39;49mbackward(\u001b[39m*\u001b[39;49m\u001b[39m*\u001b[39;49mkwargs)\n\u001b[1;32m   2243\u001b[0m \u001b[39melif\u001b[39;00m learning_rate \u001b[39mis\u001b[39;00m \u001b[39mnot\u001b[39;00m \u001b[39mNone\u001b[39;00m \u001b[39mand\u001b[39;00m \u001b[39mself\u001b[39m\u001b[39m.\u001b[39mhas_lomo_optimizer:\n\u001b[1;32m   2244\u001b[0m     \u001b[39mself\u001b[39m\u001b[39m.\u001b[39mlomo_backward(loss, learning_rate)\n",
      "File \u001b[0;32m/opt/app-root/lib64/python3.12/site-packages/torch/_tensor.py:521\u001b[0m, in \u001b[0;36mTensor.backward\u001b[0;34m(self, gradient, retain_graph, create_graph, inputs)\u001b[0m\n\u001b[1;32m    511\u001b[0m \u001b[39mif\u001b[39;00m has_torch_function_unary(\u001b[39mself\u001b[39m):\n\u001b[1;32m    512\u001b[0m     \u001b[39mreturn\u001b[39;00m handle_torch_function(\n\u001b[1;32m    513\u001b[0m         Tensor\u001b[39m.\u001b[39mbackward,\n\u001b[1;32m    514\u001b[0m         (\u001b[39mself\u001b[39m,),\n\u001b[0;32m   (...)\u001b[0m\n\u001b[1;32m    519\u001b[0m         inputs\u001b[39m=\u001b[39minputs,\n\u001b[1;32m    520\u001b[0m     )\n\u001b[0;32m--> 521\u001b[0m torch\u001b[39m.\u001b[39;49mautograd\u001b[39m.\u001b[39;49mbackward(\n\u001b[1;32m    522\u001b[0m     \u001b[39mself\u001b[39;49m, gradient, retain_graph, create_graph, inputs\u001b[39m=\u001b[39;49minputs\n\u001b[1;32m    523\u001b[0m )\n",
      "File \u001b[0;32m/opt/app-root/lib64/python3.12/site-packages/torch/autograd/__init__.py:289\u001b[0m, in \u001b[0;36mbackward\u001b[0;34m(tensors, grad_tensors, retain_graph, create_graph, grad_variables, inputs)\u001b[0m\n\u001b[1;32m    284\u001b[0m     retain_graph \u001b[39m=\u001b[39m create_graph\n\u001b[1;32m    286\u001b[0m \u001b[39m# The reason we repeat the same comment below is that\u001b[39;00m\n\u001b[1;32m    287\u001b[0m \u001b[39m# some Python versions print out the first line of a multi-line function\u001b[39;00m\n\u001b[1;32m    288\u001b[0m \u001b[39m# calls in the traceback and some print out the last line\u001b[39;00m\n\u001b[0;32m--> 289\u001b[0m _engine_run_backward(\n\u001b[1;32m    290\u001b[0m     tensors,\n\u001b[1;32m    291\u001b[0m     grad_tensors_,\n\u001b[1;32m    292\u001b[0m     retain_graph,\n\u001b[1;32m    293\u001b[0m     create_graph,\n\u001b[1;32m    294\u001b[0m     inputs,\n\u001b[1;32m    295\u001b[0m     allow_unreachable\u001b[39m=\u001b[39;49m\u001b[39mTrue\u001b[39;49;00m,\n\u001b[1;32m    296\u001b[0m     accumulate_grad\u001b[39m=\u001b[39;49m\u001b[39mTrue\u001b[39;49;00m,\n\u001b[1;32m    297\u001b[0m )\n",
      "File \u001b[0;32m/opt/app-root/lib64/python3.12/site-packages/torch/autograd/graph.py:768\u001b[0m, in \u001b[0;36m_engine_run_backward\u001b[0;34m(t_outputs, *args, **kwargs)\u001b[0m\n\u001b[1;32m    766\u001b[0m     unregister_hooks \u001b[39m=\u001b[39m _register_logging_hooks_on_whole_graph(t_outputs)\n\u001b[1;32m    767\u001b[0m \u001b[39mtry\u001b[39;00m:\n\u001b[0;32m--> 768\u001b[0m     \u001b[39mreturn\u001b[39;00m Variable\u001b[39m.\u001b[39;49m_execution_engine\u001b[39m.\u001b[39;49mrun_backward(  \u001b[39m# Calls into the C++ engine to run the backward pass\u001b[39;49;00m\n\u001b[1;32m    769\u001b[0m         t_outputs, \u001b[39m*\u001b[39;49margs, \u001b[39m*\u001b[39;49m\u001b[39m*\u001b[39;49mkwargs\n\u001b[1;32m    770\u001b[0m     )  \u001b[39m# Calls into the C++ engine to run the backward pass\u001b[39;00m\n\u001b[1;32m    771\u001b[0m \u001b[39mfinally\u001b[39;00m:\n\u001b[1;32m    772\u001b[0m     \u001b[39mif\u001b[39;00m attach_logging_hooks:\n",
      "\u001b[0;31mKeyboardInterrupt\u001b[0m: "
     ]
    }
   ],
   "source": [
    "trainer.train()\n",
    "\n",
    "model.save_pretrained(model_path + 'final')\n",
    "\n",
    "with open(model_path + '/config.json', 'w', encoding='utf-8') as f:\n",
    "    json.dump(config, f, ensure_ascii=False, indent=4)\n"
   ]
  }
 ],
 "metadata": {
  "kernelspec": {
   "display_name": "app-root",
   "language": "python",
   "name": "python3"
  },
  "language_info": {
   "codemirror_mode": {
    "name": "ipython",
    "version": 3
   },
   "file_extension": ".py",
   "mimetype": "text/x-python",
   "name": "python",
   "nbconvert_exporter": "python",
   "pygments_lexer": "ipython3",
   "version": "3.12.5"
  }
 },
 "nbformat": 4,
 "nbformat_minor": 2
}
