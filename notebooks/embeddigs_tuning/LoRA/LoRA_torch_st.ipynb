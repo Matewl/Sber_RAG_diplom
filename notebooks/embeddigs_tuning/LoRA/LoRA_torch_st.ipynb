{
 "cells": [
  {
   "cell_type": "code",
   "execution_count": 1,
   "metadata": {},
   "outputs": [],
   "source": [
    "from sentence_transformers import SentenceTransformer, InputExample, losses, models\n",
    "from torch.utils.data import DataLoader\n",
    "from peft import LoraConfig, get_peft_model, TaskType\n",
    "import torch\n",
    "from datasets import load_dataset\n",
    "from tqdm import tqdm\n",
    "import pickle\n",
    "import random\n",
    "from datasets import Dataset\n",
    "import os\n",
    "from matplotlib import pyplot as plt\n",
    "from IPython.display import clear_output\n",
    "import torch\n",
    "import gc\n",
    "from uuid import uuid4\n",
    "import json\n",
    "import numpy as np\n",
    "os.environ['TOKENIZERS_PARALLELISM'] = 'false'"
   ]
  },
  {
   "cell_type": "code",
   "execution_count": 2,
   "metadata": {},
   "outputs": [],
   "source": [
    "config = {}"
   ]
  },
  {
   "cell_type": "markdown",
   "metadata": {},
   "source": [
    "### Подготовка данных"
   ]
  },
  {
   "cell_type": "markdown",
   "metadata": {},
   "source": [
    "##### Конфигурация данных"
   ]
  },
  {
   "cell_type": "code",
   "execution_count": 3,
   "metadata": {},
   "outputs": [],
   "source": [
    "config['data'] = {'SYNT_TYPE': 'single',\n",
    "                'POSITIVE_THRESHOLD': 83,\n",
    "                'NEGATIVE_MINING_MARGINE': '001',\n",
    "                'NUM_NEGATIVES': 1,\n",
    "                'HARG_NEGATIVES_THRESHOLD': 75,\n",
    "                'USE_ALL_DATA': True\n",
    "                }"
   ]
  },
  {
   "cell_type": "markdown",
   "metadata": {},
   "source": [
    "##### Загрузка данных"
   ]
  },
  {
   "cell_type": "code",
   "execution_count": 4,
   "metadata": {},
   "outputs": [],
   "source": [
    "data_config = config['data']\n",
    "soft_negatives = pickle.load(open(f'data/soft_negatives_{data_config['SYNT_TYPE']}_{data_config['POSITIVE_THRESHOLD']}_{data_config['NEGATIVE_MINING_MARGINE']}_{data_config['NUM_NEGATIVES']}_{data_config['HARG_NEGATIVES_THRESHOLD']}.pkl', 'rb'))\n",
    "hard_negatives = pickle.load(open(f'data/hard_negatives_{data_config['SYNT_TYPE']}_{data_config['POSITIVE_THRESHOLD']}_{data_config['NEGATIVE_MINING_MARGINE']}_{data_config['NUM_NEGATIVES']}_{data_config['HARG_NEGATIVES_THRESHOLD']}.pkl', 'rb'))\n",
    "\n",
    "if data_config['USE_ALL_DATA']:\n",
    "    train_data = hard_negatives + soft_negatives\n",
    "else:\n",
    "    train_data = hard_negatives\n",
    "    \n",
    "random.shuffle(train_data)\n",
    "\n",
    "train_dataset = Dataset.from_dict({\n",
    "    'anchor': [data[0] for data in train_data],\n",
    "    'positive': [data[1] for data in train_data],\n",
    "    'negative': [data[2] for data in train_data],\n",
    "})\n"
   ]
  },
  {
   "cell_type": "markdown",
   "metadata": {},
   "source": [
    "##### Конфигурация LoRA"
   ]
  },
  {
   "cell_type": "code",
   "execution_count": 5,
   "metadata": {},
   "outputs": [],
   "source": [
    "DEVICE = torch.device(\"cuda\" if torch.cuda.is_available() else \"cpu\")\n",
    "\n",
    "config['LoRA'] = {\n",
    "                    \"MODEL_NAME\": \"e5_large\",\n",
    "                    \"LORA_R\": 16,\n",
    "                    \"LORA_ALPHA\": 32,\n",
    "                    \"LORA_DP\": 0.05\n",
    "                }\n",
    "\n",
    "LORA_CONFIG = LoraConfig(\n",
    "    task_type=TaskType.FEATURE_EXTRACTION,\n",
    "    inference_mode=False,\n",
    "    r=config['LoRA']['LORA_R'],\n",
    "    lora_alpha=config['LoRA']['LORA_ALPHA'],\n",
    "    lora_dropout=config['LoRA']['LORA_DP'],\n",
    "    bias=\"none\",\n",
    "    # modules_to_save=[\"pooling\"]\n",
    ")"
   ]
  },
  {
   "cell_type": "code",
   "execution_count": 6,
   "metadata": {},
   "outputs": [
    {
     "name": "stdout",
     "output_type": "stream",
     "text": [
      "Параметров до добавления LoRA: 559890432\n",
      "Параметров после добавления LoRA: 561463296\n",
      "Всего обучаемых параметров: 1572864\n"
     ]
    }
   ],
   "source": [
    "model = SentenceTransformer(config['LoRA']['MODEL_NAME'], device=DEVICE)\n",
    "before_num_params = sum(p.numel() for p in model.parameters())\n",
    "model.add_adapter(LORA_CONFIG)\n",
    "after_num_params = sum(p.numel() for p in model.parameters())\n",
    "print('Параметров до добавления LoRA:', before_num_params)\n",
    "print('Параметров после добавления LoRA:', after_num_params)\n",
    "print('Всего обучаемых параметров:', after_num_params - before_num_params)\n"
   ]
  },
  {
   "cell_type": "markdown",
   "metadata": {},
   "source": [
    "##### Параметры обучения"
   ]
  },
  {
   "cell_type": "code",
   "execution_count": 7,
   "metadata": {},
   "outputs": [],
   "source": [
    "config['training'] = {'LR': 2e-5,\n",
    "                    'WEIGHT_DECAY': 0.01,\n",
    "                    'MARGIN': 0.2,\n",
    "                    'EPOCHS': 5,\n",
    "                    # 'ALPHA': 0.1,\n",
    "                    'BATCH_SIZE': 32,\n",
    "                    'ACCUMULATION_STEPS': 1}"
   ]
  },
  {
   "cell_type": "code",
   "execution_count": 8,
   "metadata": {},
   "outputs": [],
   "source": [
    "def prepare_batch_for_triplet_loss(batch):\n",
    "    anchors, positives, negatives = batch['anchor'], batch['positive'], batch['negative']\n",
    "    features = []\n",
    "    for texts in [anchors, positives, negatives]:\n",
    "        tokenized = model.tokenize(texts)\n",
    "        tokenized = {key: value.to(model.device) for key, value in tokenized.items()}\n",
    "        features.append({'input_ids': tokenized['input_ids'], 'attention_mask': tokenized['attention_mask']})\n",
    "    return features"
   ]
  },
  {
   "cell_type": "code",
   "execution_count": 9,
   "metadata": {},
   "outputs": [],
   "source": [
    "triplet_loss = losses.TripletLoss(model=model, distance_metric=losses.TripletDistanceMetric.EUCLIDEAN, triplet_margin=config['training']['MARGIN'])\n",
    "cosine_loss = losses.CosineSimilarityLoss(model=model)\n"
   ]
  },
  {
   "cell_type": "code",
   "execution_count": 10,
   "metadata": {},
   "outputs": [],
   "source": [
    "train_dataloader = DataLoader(train_dataset, batch_size=config['training']['BATCH_SIZE'], shuffle=True)\n"
   ]
  },
  {
   "cell_type": "code",
   "execution_count": 11,
   "metadata": {},
   "outputs": [
    {
     "name": "stdout",
     "output_type": "stream",
     "text": [
      "at_epoch: 0 \n",
      "at_step: 479 / 692 \n",
      "loss: 0.17867277562618256\n"
     ]
    },
    {
     "data": {
      "image/png": "[encoded data removed]",
      "text/plain": [
       "<Figure size 640x480 with 1 Axes>"
      ]
     },
     "metadata": {},
     "output_type": "display_data"
    }
   ],
   "source": [
    "optimizer = torch.optim.AdamW(\n",
    "    model.parameters(), \n",
    "    lr=config['training']['LR'],\n",
    "    weight_decay=config['training']['WEIGHT_DECAY']\n",
    ")\n",
    "\n",
    "log_interval = 10\n",
    "\n",
    "model_save_path = f'lora_{str(uuid4())}'\n",
    "    \n",
    "losses = []\n",
    "for epoch in range(config['training']['EPOCHS']):\n",
    "    model.train()\n",
    "    epoch_loss = 0.0\n",
    "    cur_losses = []\n",
    "    loss_value = 0\n",
    "    for step, batch in enumerate(train_dataloader):\n",
    "        if step % config['training']['ACCUMULATION_STEPS'] == 0:\n",
    "            loss_value = triplet_loss(prepare_batch_for_triplet_loss(batch), None)\n",
    "            loss_value.backward()\n",
    "            optimizer.step()\n",
    "            optimizer.zero_grad()\n",
    "        else:\n",
    "            loss_value = loss_value + triplet_loss(prepare_batch_for_triplet_loss(batch), None)\n",
    "            \n",
    "        current_loss = loss_value.item()\n",
    "        del loss_value\n",
    "        cur_losses.append(current_loss)\n",
    "        if step % log_interval == log_interval - 1:\n",
    "            clear_output()\n",
    "            print('at_epoch:', epoch, '\\nat_step:', step, '/', len(train_dataloader), '\\nloss:', current_loss)\n",
    "            losses.append(np.mean(current_loss))\n",
    "            cur_losses = []\n",
    "            plt.plot(losses)  \n",
    "            plt.show()\n",
    "    model_save_path = f'{model_save_path}/epoch_{epoch}'     \n",
    "    os.makedirs(model_save_path, exist_ok=True)\n",
    "    model.save(model_save_path)\n",
    "\n",
    "with open(model_save_path + '/config.json', 'w', encoding='utf-8') as f:\n",
    "    json.dump(config, f, ensure_ascii=False, indent=4)\n",
    "    "
   ]
  }
 ],
 "metadata": {
  "kernelspec": {
   "display_name": "app-root",
   "language": "python",
   "name": "python3"
  },
  "language_info": {
   "codemirror_mode": {
    "name": "ipython",
    "version": 3
   },
   "file_extension": ".py",
   "mimetype": "text/x-python",
   "name": "python",
   "nbconvert_exporter": "python",
   "pygments_lexer": "ipython3",
   "version": "3.12.5"
  }
 },
 "nbformat": 4,
 "nbformat_minor": 2
}
