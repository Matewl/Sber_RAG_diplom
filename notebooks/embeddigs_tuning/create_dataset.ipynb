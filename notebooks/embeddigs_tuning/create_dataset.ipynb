{
 "cells": [
  {
   "cell_type": "code",
   "execution_count": null,
   "id": "e5afac0d-d10d-44a1-a6d0-b825666c4818",
   "metadata": {
    "tags": []
   },
   "outputs": [],
   "source": [
    "from sentence_transformers import SentenceTransformer, InputExample, losses\n",
    "from torch.utils.data import DataLoader\n",
    "import torch\n",
    "from tqdm import tqdm\n",
    "import pickle\n",
    "import json\n",
    "import numpy as np\n",
    "from numpy.linalg import norm\n",
    "import pandas as pd\n",
    "from joblib import delayed, Parallel\n",
    "import warnings\n",
    "from sklearn.metrics.pairwise import cosine_similarity\n",
    "import os\n",
    "warnings.filterwarnings('ignore')\n",
    "np.random.seed(1337)\n",
    "\n",
    "model = SentenceTransformer('e5_large/', device='cuda:1')  # or 'e5-large-v2'\n",
    "os.environ['TOKENIZERS_PARALLELISM'] = 'false'"
   ]
  },
  {
   "cell_type": "code",
   "execution_count": null,
   "id": "14d55d5f-a26a-4e2e-8763-b9cbdd5fabfc",
   "metadata": {
    "tags": []
   },
   "outputs": [],
   "source": [
    "def cosin_sim(a, b):\n",
    "    return (a * b).sum(-1) / (norm(a, axis=-1) * norm(b, axis=-1))"
   ]
  },
  {
   "cell_type": "code",
   "execution_count": null,
   "id": "f042c2ef-10d8-4820-a2fb-9bdbbcdd88f0",
   "metadata": {
    "tags": []
   },
   "outputs": [],
   "source": [
    "queries = pickle.load(open('data/generated_data/q_res_single.pkl', 'rb'))\n",
    "passages = json.load(open('data/generated_data/passages.json', 'r', encoding='utf-8'))"
   ]
  },
  {
   "cell_type": "code",
   "execution_count": null,
   "id": "da1723fb-a97c-4e4e-b0a0-19c42770cc8d",
   "metadata": {
    "tags": []
   },
   "outputs": [],
   "source": [
    "passages_texts = [passage['page_content'] for passage in passages]"
   ]
  },
  {
   "cell_type": "code",
   "execution_count": null,
   "id": "520b39ee-ce1d-419f-af67-7a12b29f1ba6",
   "metadata": {
    "tags": []
   },
   "outputs": [],
   "source": [
    "positive_dataset = []\n",
    "for questions, passage_text in zip(queries, passages_texts):\n",
    "    if questions:\n",
    "        for q in questions:\n",
    "            positive_dataset.append((q, passage_text))\n",
    "\n",
    "len(positive_dataset)"
   ]
  },
  {
   "cell_type": "code",
   "execution_count": null,
   "id": "5e7fd9d9-8c5e-4efc-a209-072a9768c63f",
   "metadata": {
    "tags": []
   },
   "outputs": [],
   "source": [
    "### Фтльтруем то, что забраковала LLM\n",
    "e_res = pickle.load(open('data/generated_data/e_res_single.pkl', 'rb'))\n",
    "\n",
    "positive_dataset = [positive_dataset[i] for i in range(len(positive_dataset)) if e_res[i]]\n",
    "len(positive_dataset)"
   ]
  },
  {
   "cell_type": "code",
   "execution_count": null,
   "id": "ef80c2f8-5e20-4577-aa7d-22b74a1ecde9",
   "metadata": {
    "tags": []
   },
   "outputs": [],
   "source": [
    "### Индексируем вопросы и чанки \n",
    "query_to_text = {query: text for query, text in positive_dataset}\n",
    "queries = list(query_to_text.keys())\n",
    "queries_embs = model.encode(queries, show_progress_bar=True)\n",
    "query_to_emb = {query: emb for query, emb in zip(queries, queries_embs)}\n",
    "doc_embs = model.encode(passages_texts, show_progress_bar=True)\n",
    "text_to_emb = {text: emb for text, emb in zip(passages_texts, doc_embs)}"
   ]
  },
  {
   "cell_type": "code",
   "execution_count": null,
   "id": "e0e8eb2c-67c5-40f8-87eb-01fd5f14ff09",
   "metadata": {
    "tags": []
   },
   "outputs": [],
   "source": [
    "### Фильтруем плохие позитивы\n",
    "print('queries before clean:', len(queries))\n",
    "threshold = 0.83\n",
    "for q in queries:\n",
    "    q_emb = query_to_emb[q]\n",
    "    doc_emb = text_to_emb[query_to_text[q]]\n",
    "    if cosin_sim(q_emb, doc_emb) < threshold:\n",
    "        query_to_text.pop(q)\n",
    "        query_to_emb.pop(q)\n",
    "queries = list(query_to_text.keys())\n",
    "queries_embs = [query_to_emb[query] for query in queries]\n",
    "print('queries after clean:', len(query_to_text))"
   ]
  },
  {
   "cell_type": "code",
   "execution_count": null,
   "id": "5215bb7f-e24c-4b20-829f-3873de58e4de",
   "metadata": {
    "tags": []
   },
   "outputs": [],
   "source": [
    "similarities = cosine_similarity(queries_embs, doc_embs)"
   ]
  },
  {
   "cell_type": "markdown",
   "id": "d67bd281-dfda-4af3-a63b-6597afa72240",
   "metadata": {
    "tags": []
   },
   "source": [
    "### Negatives mining"
   ]
  },
  {
   "cell_type": "code",
   "execution_count": null,
   "id": "d2c28734-f90f-40c5-bf71-a1504e8f6108",
   "metadata": {
    "tags": []
   },
   "outputs": [],
   "source": [
    "MARGINE = 0.03"
   ]
  },
  {
   "cell_type": "code",
   "execution_count": null,
   "id": "d4aa15ce-0088-4325-808c-11bed62606f4",
   "metadata": {
    "tags": []
   },
   "outputs": [],
   "source": [
    "def get_potentials(query_emb, doc_emb):\n",
    "    \"\"\"Для вопроса и его голд пассажа находим индексы всех потенциальных негативов\"\"\"\n",
    "    all_similarities = cosin_sim(query_emb, doc_embs)\n",
    "    positive_similarity = cosin_sim(query_emb, doc_emb)\n",
    "    res = []\n",
    "    for i in range(len(doc_embs)):\n",
    "        # if all_similarities[i] + MARGINE < positive_similarity:\n",
    "            res.append(i)\n",
    "\n",
    "    return res\n"
   ]
  },
  {
   "cell_type": "code",
   "execution_count": null,
   "id": "cf85d0f2-073e-48af-9ea1-c141aad2b74f",
   "metadata": {
    "tags": []
   },
   "outputs": [],
   "source": [
    "potentials = Parallel(n_jobs=8)(delayed(get_potentials)(query_to_emb[query], text_to_emb[query_to_text[query]]) for query in tqdm(queries))"
   ]
  },
  {
   "cell_type": "code",
   "execution_count": null,
   "id": "fdc76c62-00e7-4c27-be4e-a8c30365d6c7",
   "metadata": {
    "tags": []
   },
   "outputs": [],
   "source": [
    "query_to_potentials = {query: potential for query, potential in zip(queries, potentials)}"
   ]
  },
  {
   "cell_type": "code",
   "execution_count": null,
   "id": "af63fe32-373b-46e0-95d8-c4db36f4c3ca",
   "metadata": {
    "tags": []
   },
   "outputs": [],
   "source": [
    "### Собираем soft negatives\n",
    "num_negatives = 1\n",
    "soft_negatives = []\n",
    "for i, query in enumerate(tqdm(queries)):\n",
    "    potentials = query_to_potentials[query]\n",
    "    negative_indexes = np.random.choice(potentials, num_negatives)\n",
    "    for index in negative_indexes:\n",
    "        triplet = (query, query_to_text[query], passages_texts[index])\n",
    "        soft_negatives.append(triplet)"
   ]
  },
  {
   "cell_type": "code",
   "execution_count": null,
   "id": "cbef3aa9-7ec7-4259-9971-7f9f2a6ea18b",
   "metadata": {
    "tags": []
   },
   "outputs": [],
   "source": [
    "### Собираем hard negatives\n",
    "num_negatives = 1\n",
    "hard_negatives_threshold = 0.75\n",
    "hard_negatives = []\n",
    "for i, query in enumerate(tqdm(queries)):\n",
    "    potentials = query_to_potentials[query]\n",
    "    potentials = [potential for potential in potentials if similarities[i, potential] > hard_negatives_threshold]\n",
    "    try:\n",
    "        negative_indexes = np.random.choice(potentials, num_negatives)\n",
    "        for index in negative_indexes:\n",
    "            triplet = (query, query_to_text[query], passages_texts[index])\n",
    "            hard_negatives.append(triplet)\n",
    "    except:\n",
    "        1"
   ]
  },
  {
   "cell_type": "code",
   "execution_count": null,
   "id": "e944506f-f4c3-4f62-9b06-2512362aca1d",
   "metadata": {
    "tags": []
   },
   "outputs": [],
   "source": [
    "len(soft_negatives), len(hard_negatives)"
   ]
  },
  {
   "cell_type": "code",
   "execution_count": null,
   "id": "3c3db088-5a2b-4a47-9d36-1ac32f56313d",
   "metadata": {
    "tags": []
   },
   "outputs": [],
   "source": [
    "pickle.dump(soft_negatives, open('data/soft_negatives_single_83_0_1_75.pkl', 'wb'))\n",
    "pickle.dump(hard_negatives, open('data/hard_negatives_single_83_0_1_75.pkl', 'wb'))"
   ]
  },
  {
   "cell_type": "code",
   "execution_count": null,
   "id": "cd9c4521",
   "metadata": {},
   "outputs": [],
   "source": []
  },
  {
   "cell_type": "code",
   "execution_count": null,
   "id": "2e320f41",
   "metadata": {},
   "outputs": [],
   "source": []
  }
 ],
 "metadata": {
  "kernelspec": {
   "display_name": "Python 3.12",
   "language": "python",
   "name": "python3"
  },
  "language_info": {
   "codemirror_mode": {
    "name": "ipython",
    "version": 3
   },
   "file_extension": ".py",
   "mimetype": "text/x-python",
   "name": "python",
   "nbconvert_exporter": "python",
   "pygments_lexer": "ipython3",
   "version": "3.12.5"
  }
 },
 "nbformat": 4,
 "nbformat_minor": 5
}
