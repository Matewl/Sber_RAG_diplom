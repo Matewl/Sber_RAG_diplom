{
 "cells": [
  {
   "cell_type": "code",
   "execution_count": null,
   "metadata": {},
   "outputs": [],
   "source": [
    "import pandas as pd\n",
    "from langchain_community.vectorstores import FAISS\n",
    "from langchain_gigachat import  GigaChatEmbeddings, GigaChat\n",
    "from langchain.schema import Document\n",
    "from datasets import Dataset\n",
    "import pickle\n",
    "import ragas\n",
    "from ragas import evaluate\n",
    "from ragas.metrics import (faithfulness, \n",
    "                           context_precision, \n",
    "                           context_recall, \n",
    "                           answer_correctness, \n",
    "                           answer_relevancy, \n",
    "                           noise_sensitivity,\n",
    "                           faithfulness_ru, \n",
    "                           answer_correctness_ru, \n",
    "                           answer_correctness_devide_ru, \n",
    "                           answer_relevancy_ru)\n",
    "from ragas.run_config import RunConfig\n",
    "\n",
    "cert_file='C:\\\\Users/22589910/Desktop/work/certs/our_certs/chain_ift_pem.pem'  \n",
    "key_file='C:\\\\Users/22589910/Desktop/work/certs/our_certs/CI02851867-IFT-RISKASSISTANT2.key'  \n",
    "%load_ext autoreload\n",
    "%autoreload 2"
   ]
  },
  {
   "cell_type": "code",
   "execution_count": null,
   "metadata": {},
   "outputs": [],
   "source": [
    "embedder = GigaChatEmbeddings(\n",
    "            base_url='https://gigachat-ift.sberdevices.delta.sbrf.ru/v1',\n",
    "            model= 'Embeddings',\n",
    "            cert_file=cert_file,\n",
    "            key_file=key_file,\n",
    "            verify_ssl_certs=False,\n",
    "\n",
    ")\n",
    "llm = GigaChat(\n",
    "            base_url='https://gigachat-ift.sberdevices.delta.sbrf.ru/v1',\n",
    "            model = 'GigaChat-2-MAX',\n",
    "            cert_file=cert_file,\n",
    "            key_file=key_file, \n",
    "            verify_ssl_certs=False,\n",
    "            temperature=0.0,\n",
    "            max_tokens=32000,\n",
    "            profanity_check=False,\n",
    ")\n"
   ]
  },
  {
   "cell_type": "code",
   "execution_count": null,
   "metadata": {},
   "outputs": [],
   "source": [
    "# from ragas.llms.base import BaseRagasLLM, LangchainLLMWrapper\n",
    "\n",
    "# llm = LangchainLLMWrapper(llm)"
   ]
  },
  {
   "cell_type": "code",
   "execution_count": null,
   "metadata": {},
   "outputs": [],
   "source": [
    "bench_df = pd.read_excel('after_adding_doc_name_.xlsx')\n",
    "bench_df = bench_df[bench_df['docs_bucket'] == 'group standards']\n",
    "queries = list(bench_df['Вопрос'])\n",
    "answers = list(bench_df['Ответ'])"
   ]
  },
  {
   "cell_type": "code",
   "execution_count": null,
   "metadata": {},
   "outputs": [],
   "source": [
    "def create_dataset(res):\n",
    "    df = pd.DataFrame({\n",
    "        'user_input': queries,\n",
    "        'retrieved_contexts': [r[1] for r in res if r],\n",
    "        'response': [r[0] for r in res if r],\n",
    "        'reference': answers\n",
    "    })\n",
    "    return Dataset.from_pandas(df)"
   ]
  },
  {
   "cell_type": "code",
   "execution_count": null,
   "metadata": {},
   "outputs": [],
   "source": []
  },
  {
   "cell_type": "code",
   "execution_count": null,
   "metadata": {},
   "outputs": [],
   "source": [
    "config = RunConfig(max_workers=8, \n",
    "                   max_retries=1, \n",
    "                   max_wait=300, \n",
    "                   timeout=400)"
   ]
  },
  {
   "cell_type": "code",
   "execution_count": null,
   "metadata": {},
   "outputs": [],
   "source": [
    "def evaluate_all_metrics(dataset, llm, config):\n",
    "    metrics = evaluate(dataset=dataset, \n",
    "         metrics=[\n",
    "                # faithfulness,\n",
    "                # context_precision,\n",
    "                # context_recall,\n",
    "                answer_relevancy_ru,\n",
    "                # answer_correctness,\n",
    "                # answer_correctness_ru,\n",
    "                # faithfulness_ru,\n",
    "                answer_correctness_devide_ru,\n",
    "                noise_sensitivity,\n",
    "                ],\n",
    "        llm=llm, \n",
    "        embeddings=embedder, \n",
    "        run_config=config\n",
    "    )\n",
    "    return metrics.to_pandas()"
   ]
  },
  {
   "cell_type": "code",
   "execution_count": null,
   "metadata": {},
   "outputs": [],
   "source": [
    "def evaluate_RAG(res_path):\n",
    "    res = pickle.load(open(res_path, 'rb'))\n",
    "    dataset = create_dataset(res)\n",
    "    metrics = evaluate_all_metrics(dataset, llm, config)\n",
    "    metrics.to_csv(res_path.split('.')[0] + '.csv')"
   ]
  },
  {
   "cell_type": "code",
   "execution_count": null,
   "metadata": {},
   "outputs": [],
   "source": [
    "evaluate_RAG('vanilla.pkl')"
   ]
  },
  {
   "cell_type": "code",
   "execution_count": null,
   "metadata": {},
   "outputs": [],
   "source": [
    "self.embedder_tokenizer = EmbedderTokenizer(self.cfg['retriever']['embedder_tokenizer'])"
   ]
  },
  {
   "cell_type": "code",
   "execution_count": null,
   "metadata": {},
   "outputs": [],
   "source": [
    "pd.read_csv('vanilla.csv')"
   ]
  }
 ],
 "metadata": {
  "kernelspec": {
   "display_name": "Python 3",
   "language": "python",
   "name": "python3"
  },
  "language_info": {
   "codemirror_mode": {
    "name": "ipython",
    "version": 3
   },
   "file_extension": ".py",
   "mimetype": "text/x-python",
   "name": "python",
   "nbconvert_exporter": "python",
   "pygments_lexer": "ipython3",
   "version": "3.12.7"
  }
 },
 "nbformat": 4,
 "nbformat_minor": 2
}
